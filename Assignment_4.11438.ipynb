{
 "cells": [
  {
   "cell_type": "code",
   "execution_count": 1,
   "metadata": {},
   "outputs": [
    {
     "name": "stdout",
     "output_type": "stream",
     "text": [
      "Initialised Utils Child class\n",
      "Initialised Triagle super class [3,4,5]\n",
      "6.0\n",
      "Area of triangle = 6.0\n"
     ]
    }
   ],
   "source": [
    "#Assignment4 1.1:\n",
    "#Write a Python Program(with class concepts) to find the area of the triangle using the below\n",
    "#formula.\n",
    "#area = (s*(s-a)*(s-b)*(s-c)) ** 0.5\n",
    "#Function to take the length of the sides of triangle from user should be defined in the parent\n",
    "#class and function to calculate the area should be defined in subclass.\n",
    "\n",
    "class Triangle:\n",
    " def __init__(self, side1, side2, side3):\n",
    "  self.side1 = side1\n",
    "  self.side2 = side2\n",
    "  self.side3 = side3\n",
    "  print (\"Initialised Triagle super class [\" +  str(side1) + \",\" + str(side2) + \",\" + str(side3) + \"]\")\n",
    "\n",
    "class Triangle_Utilities(Triangle):\n",
    " \n",
    " def __init__(self, side1, side2, side3):\n",
    "  print (\"Initialised Utils Child class\" )\n",
    "  super(Triangle_Utilities, self).__init__(side1, side2, side3)\n",
    "\n",
    " def get_area(self):\n",
    "  s = (self.side1 + self.side2 + self.side3)/2\n",
    "  print (str(s))\n",
    "  return (s*(s-self.side1)*(s-self.side2)*(s-self.side3))**0.5\n",
    "\n",
    "instance = Triangle_Utilities(3,4,5)\n",
    "print (\"Area of triangle = \" + str(instance.get_area()) )"
   ]
  },
  {
   "cell_type": "code",
   "execution_count": 1,
   "metadata": {},
   "outputs": [],
   "source": [
    "# Assignment4 1.2 Write a function filter_long_words() that takes a list of words and an integer n and returns\n",
    "# the list of words that are longer than n.\n",
    "\n",
    "def filter_long_words(inputList,inputInteger):\n",
    " \n",
    "    listOfWords = []\n",
    " \n",
    "    for i in range(len(inputList)):\n",
    "        if len(inputList[i]) > inputInteger:\n",
    "            listOfWords.append(inputList[i])\n",
    " \n",
    "    return listOfWords"
   ]
  },
  {
   "cell_type": "code",
   "execution_count": 2,
   "metadata": {},
   "outputs": [],
   "source": [
    "inputListOfWords = ['wordOne','wordTwo','wordThree','wordFour','wordFive']\n",
    "inputWordLength = 7"
   ]
  },
  {
   "cell_type": "code",
   "execution_count": 3,
   "metadata": {},
   "outputs": [
    {
     "name": "stdout",
     "output_type": "stream",
     "text": [
      "['wordThree', 'wordFour', 'wordFive']\n"
     ]
    }
   ],
   "source": [
    "print (str(filter_long_words(inputListOfWords,inputWordLength)))"
   ]
  },
  {
   "cell_type": "code",
   "execution_count": 4,
   "metadata": {},
   "outputs": [],
   "source": [
    "# Assignment4 2.1 Write a Python program using function concept that maps list of words into a list of integers\n",
    "# representing the lengths of the corresponding words.\n",
    "# Hint:<200b> <200b>If a list [ ab,cde,erty] is passed on to the python function output should come as [2,3,4]\n",
    "# Here 2,3 and 4 are the lengths of the words in the list.\n",
    "\n",
    "wordlist = [\"This\", \"is\", \"a\", \"beautiful\", \"day\"]"
   ]
  },
  {
   "cell_type": "code",
   "execution_count": 5,
   "metadata": {},
   "outputs": [],
   "source": [
    "def wordlength(wordlist):\n",
    " return list(map(lambda x: len(x), wordlist))"
   ]
  },
  {
   "cell_type": "code",
   "execution_count": 6,
   "metadata": {},
   "outputs": [
    {
     "name": "stdout",
     "output_type": "stream",
     "text": [
      "word lengths in array => [4, 2, 1, 9, 3]\n"
     ]
    }
   ],
   "source": [
    "print (\"word lengths in array => \" + str(wordlength(wordlist)))"
   ]
  },
  {
   "cell_type": "code",
   "execution_count": 7,
   "metadata": {},
   "outputs": [],
   "source": [
    "# Assignment4 2.2 Write a Python function which takes a character (i.e. a string of length 1) and returns True if it is\n",
    "#a vowel, False otherwise.\n",
    "\n",
    "def vowel_check(char):\n",
    " if(char == 'a' or char == 'e' or char == 'i' or char == 'o' or char == 'u'):\n",
    "  return True\n",
    " else:\n",
    "  return False"
   ]
  },
  {
   "cell_type": "code",
   "execution_count": 8,
   "metadata": {},
   "outputs": [
    {
     "name": "stdout",
     "output_type": "stream",
     "text": [
      "Enter character: a\n"
     ]
    }
   ],
   "source": [
    "# Take user input\n",
    "char = input(\"Enter character: \");"
   ]
  },
  {
   "cell_type": "code",
   "execution_count": 11,
   "metadata": {},
   "outputs": [],
   "source": [
    "# If Invalid input, exit\n",
    "if (char.isalpha() == False):\n",
    " exit();"
   ]
  },
  {
   "cell_type": "code",
   "execution_count": 10,
   "metadata": {},
   "outputs": [
    {
     "name": "stdout",
     "output_type": "stream",
     "text": [
      "a is a vowel.\n"
     ]
    }
   ],
   "source": [
    "# Invoke function\n",
    "if (vowel_check(char)):\n",
    " print(char, \"is a vowel.\");\n",
    "else:\n",
    " print(char, \"is not a vowel.\"); "
   ]
  }
 ],
 "metadata": {
  "kernelspec": {
   "display_name": "Python 3",
   "language": "python",
   "name": "python3"
  },
  "language_info": {
   "codemirror_mode": {
    "name": "ipython",
    "version": 3
   },
   "file_extension": ".py",
   "mimetype": "text/x-python",
   "name": "python",
   "nbconvert_exporter": "python",
   "pygments_lexer": "ipython3",
   "version": "3.6.5"
  }
 },
 "nbformat": 4,
 "nbformat_minor": 2
}
